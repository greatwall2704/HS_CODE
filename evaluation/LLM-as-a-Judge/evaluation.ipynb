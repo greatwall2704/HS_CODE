{
 "cells": [
  {
   "cell_type": "markdown",
   "id": "3ef11ea2",
   "metadata": {},
   "source": [
    "# Đánh giá mô tả mã HS bằng LLM as a Judge + Checklist\n",
    "Notebook này thực hiện các bước:\n",
    "1. Đọc dữ liệu mô tả mã HS từ file CSV.\n",
    "2. Nhóm dữ liệu theo prefix mã HS.\n",
    "3. Xây dựng prompt theo phương pháp LLM as a Judge + Checklist.\n",
    "4. Gọi LLM để đánh giá từng nhóm.\n",
    "5. Lưu kết quả ra file CSV.\n",
    "6. Hỗ trợ debug từng bước."
   ]
  },
  {
   "cell_type": "code",
   "execution_count": 1,
   "id": "a7aaa0dc",
   "metadata": {},
   "outputs": [],
   "source": [
    "# Import các thư viện cần thiết\n",
    "import os\n",
    "import json\n",
    "import pandas as pd\n",
    "from collections import defaultdict\n",
    "from dotenv import load_dotenv\n",
    "from typing import List, Dict"
   ]
  },
  {
   "cell_type": "code",
   "execution_count": 2,
   "id": "2fdfbc08",
   "metadata": {},
   "outputs": [
    {
     "data": {
      "application/vnd.microsoft.datawrangler.viewer.v0+json": {
       "columns": [
        {
         "name": "index",
         "rawType": "int64",
         "type": "integer"
        },
        {
         "name": "mahs",
         "rawType": "object",
         "type": "string"
        },
        {
         "name": "mo_ta",
         "rawType": "object",
         "type": "string"
        },
        {
         "name": "mo_ta_moi",
         "rawType": "object",
         "type": "string"
        }
       ],
       "ref": "16c7977a-7e85-4a48-875b-4f61b3c76d12",
       "rows": [
        [
         "0",
         "01012900",
         "Ngựa, lừa, la sống/- Ngựa:/- - Loại khác",
         "Mã 01012900 thuộc nhóm 0101 (Ngựa, lừa, la sống), mô tả các loại ngựa khác, không bao gồm các loại được liệt kê cụ thể ở các mã khác."
        ],
        [
         "1",
         "01013010",
         "Ngựa, lừa, la sống/- Lừa:/- - Loại thuần chủng để nhân giống",
         "Mã 01013010 thuộc nhóm 0101 (Ngựa, lừa, la sống), mô tả lừa thuần chủng được sử dụng cho mục đích nhân giống."
        ],
        [
         "2",
         "01013090",
         "Ngựa, lừa, la sống/- Lừa:/- - Loại khác",
         "Mã 01013090 thuộc nhóm 0101 (Ngựa, lừa, la sống), mô tả các loại lừa khác, không phải loại thuần chủng dùng để nhân giống."
        ],
        [
         "3",
         "01019000",
         "Ngựa, lừa, la sống/- Loại khác",
         "Mã 01019000 thuộc nhóm 0101 (Ngựa, lừa, la sống), mô tả các loại động vật thuộc họ này khác, không phải ngựa hay lừa."
        ],
        [
         "4",
         "01022100",
         "Động vật sống họ trâu bò/- Gia súc:/- - Loại thuần chủng để nhân giống",
         "Mã 01022100 thuộc nhóm 0102, mô tả động vật sống họ trâu bò là gia súc thuần chủng, được sử dụng với mục đích nhân giống."
        ]
       ],
       "shape": {
        "columns": 3,
        "rows": 5
       }
      },
      "text/html": [
       "<div>\n",
       "<style scoped>\n",
       "    .dataframe tbody tr th:only-of-type {\n",
       "        vertical-align: middle;\n",
       "    }\n",
       "\n",
       "    .dataframe tbody tr th {\n",
       "        vertical-align: top;\n",
       "    }\n",
       "\n",
       "    .dataframe thead th {\n",
       "        text-align: right;\n",
       "    }\n",
       "</style>\n",
       "<table border=\"1\" class=\"dataframe\">\n",
       "  <thead>\n",
       "    <tr style=\"text-align: right;\">\n",
       "      <th></th>\n",
       "      <th>mahs</th>\n",
       "      <th>mo_ta</th>\n",
       "      <th>mo_ta_moi</th>\n",
       "    </tr>\n",
       "  </thead>\n",
       "  <tbody>\n",
       "    <tr>\n",
       "      <th>0</th>\n",
       "      <td>01012900</td>\n",
       "      <td>Ngựa, lừa, la sống/- Ngựa:/- - Loại khác</td>\n",
       "      <td>Mã 01012900 thuộc nhóm 0101 (Ngựa, lừa, la sốn...</td>\n",
       "    </tr>\n",
       "    <tr>\n",
       "      <th>1</th>\n",
       "      <td>01013010</td>\n",
       "      <td>Ngựa, lừa, la sống/- Lừa:/- - Loại thuần chủng...</td>\n",
       "      <td>Mã 01013010 thuộc nhóm 0101 (Ngựa, lừa, la sốn...</td>\n",
       "    </tr>\n",
       "    <tr>\n",
       "      <th>2</th>\n",
       "      <td>01013090</td>\n",
       "      <td>Ngựa, lừa, la sống/- Lừa:/- - Loại khác</td>\n",
       "      <td>Mã 01013090 thuộc nhóm 0101 (Ngựa, lừa, la sốn...</td>\n",
       "    </tr>\n",
       "    <tr>\n",
       "      <th>3</th>\n",
       "      <td>01019000</td>\n",
       "      <td>Ngựa, lừa, la sống/- Loại khác</td>\n",
       "      <td>Mã 01019000 thuộc nhóm 0101 (Ngựa, lừa, la sốn...</td>\n",
       "    </tr>\n",
       "    <tr>\n",
       "      <th>4</th>\n",
       "      <td>01022100</td>\n",
       "      <td>Động vật sống họ trâu bò/- Gia súc:/- - Loại t...</td>\n",
       "      <td>Mã 01022100 thuộc nhóm 0102, mô tả động vật số...</td>\n",
       "    </tr>\n",
       "  </tbody>\n",
       "</table>\n",
       "</div>"
      ],
      "text/plain": [
       "       mahs                                              mo_ta  \\\n",
       "0  01012900           Ngựa, lừa, la sống/- Ngựa:/- - Loại khác   \n",
       "1  01013010  Ngựa, lừa, la sống/- Lừa:/- - Loại thuần chủng...   \n",
       "2  01013090            Ngựa, lừa, la sống/- Lừa:/- - Loại khác   \n",
       "3  01019000                     Ngựa, lừa, la sống/- Loại khác   \n",
       "4  01022100  Động vật sống họ trâu bò/- Gia súc:/- - Loại t...   \n",
       "\n",
       "                                           mo_ta_moi  \n",
       "0  Mã 01012900 thuộc nhóm 0101 (Ngựa, lừa, la sốn...  \n",
       "1  Mã 01013010 thuộc nhóm 0101 (Ngựa, lừa, la sốn...  \n",
       "2  Mã 01013090 thuộc nhóm 0101 (Ngựa, lừa, la sốn...  \n",
       "3  Mã 01019000 thuộc nhóm 0101 (Ngựa, lừa, la sốn...  \n",
       "4  Mã 01022100 thuộc nhóm 0102, mô tả động vật số...  "
      ]
     },
     "execution_count": 2,
     "metadata": {},
     "output_type": "execute_result"
    }
   ],
   "source": [
    "# Đọc dữ liệu từ file CSV\n",
    "data_path = \"../../data/description data/mota_motamoi.csv\"\n",
    "df = pd.read_csv(data_path, dtype=str)\n",
    "if 'Unnamed: 0' in df.columns:\n",
    "    df = df.drop(columns=['Unnamed: 0'])\n",
    "df = df[['mahs', 'mo_ta', 'mo_ta_moi']]\n",
    "df.head()"
   ]
  },
  {
   "cell_type": "code",
   "execution_count": 3,
   "id": "0865cae9",
   "metadata": {},
   "outputs": [
    {
     "name": "stdout",
     "output_type": "stream",
     "text": [
      "Số nhóm prefix: 4\n",
      "Prefix: 0101, số lượng: 4\n",
      "{'mahs': '01012900', 'mo_ta': 'Ngựa, lừa, la sống/- Ngựa:/- - Loại khác', 'mo_ta_moi': 'Mã 01012900 thuộc nhóm 0101 (Ngựa, lừa, la sống), mô tả các loại ngựa khác, không bao gồm các loại được liệt kê cụ thể ở các mã khác.'}\n"
     ]
    }
   ],
   "source": [
    "# Nhóm dữ liệu theo prefix 4 ký tự đầu của mã HS\n",
    "def group_by_hs_prefix(df):\n",
    "    grouped = defaultdict(list)\n",
    "    for _, row in df.iterrows():\n",
    "        prefix = str(row['mahs'])[:4]\n",
    "        grouped[prefix].append(row.to_dict())\n",
    "    return grouped\n",
    "\n",
    "grouped_data = group_by_hs_prefix(df)\n",
    "print(f\"Số nhóm prefix: {len(grouped_data)}\")\n",
    "# Hiển thị ví dụ 1 nhóm\n",
    "for prefix, items in grouped_data.items():\n",
    "    print(f\"Prefix: {prefix}, số lượng: {len(items)}\")\n",
    "    print(items[0])\n",
    "    break"
   ]
  },
  {
   "cell_type": "code",
   "execution_count": null,
   "id": "3a8470d7",
   "metadata": {},
   "outputs": [
    {
     "name": "stdout",
     "output_type": "stream",
     "text": [
      "Bạn là chuyên gia đánh giá chất lượng mô tả hàng hóa theo mã HS code. Dưới đây là các cặp mô tả gốc và mô tả mới thuộc nhóm 0101:\n",
      "\n",
      "- 01012900:\n",
      "  + Mô tả gốc: Ngựa, lừa, la sống/- Ngựa:/- - Loại khác\n",
      "  + Mô tả mới: Mã 01012900 thuộc nhóm 0101 (Ngựa, lừa, la sống), mô tả các loại ngựa khác, không bao gồm các loại được liệt kê cụ thể ở các mã khác.\n",
      "- 01013010:\n",
      "  + Mô tả gốc: Ngựa, lừa, la sống/- Lừa:/- - Loại thuần chủng để nhân giống\n",
      "  + Mô tả mới: Mã 01013010 thuộc nhóm 0101 (Ngựa, lừa, la sống), mô tả lừa thuần chủng được sử dụng cho mục đích nhân giống.\n",
      "- 01013090:\n",
      "  + Mô tả gốc: Ngựa, lừa, la sống/- Lừa:/- - Loại khác\n",
      "  + Mô tả mới: Mã 01013090 thuộc nhóm 0101 (Ngựa, lừa, la sống), mô tả các loại lừa khác, không phải loại thuần chủng dùng để nhân giống.\n",
      "- 01019000:\n",
      "  + Mô tả gốc: Ngựa, lừa, la sống/- Loại khác\n",
      "  + Mô tả mới: Mã 01019000 thuộc nhóm 0101 (Ngựa, lừa, la sống), mô tả các loại động vật thuộc họ này khác, không phải ngựa hay lừa.\n",
      "\n",
      "\n",
      "---\n",
      "\n",
      "## Nhiệm vụ:\n",
      "\n",
      "Đánh giá **từng cặp mô tả** (gốc và mới) dựa theo các tiêu chí sau (chấm từng tiêu chí Đúng/Sai):\n",
      "\n",
      "### Checklist đánh giá:\n",
      "1. **Giữ đúng ngữ nghĩa** từ mô tả gốc (`dung_noi_dung`)\n",
      "2. **Không suy diễn / bổ sung ngoài** nội dung ban đầu (`khong_them_thong_tin`)\n",
      "3. **Ngôn ngữ đời thường** (tự nhiên, dễ hiểu) (`ngon_ngu_tu_nhien`)\n",
      "4. **Tránh thuật ngữ \"level\", \"tầng\", \"phân cấp\"...** (`tranh_thuat_ngu`)\n",
      "5. **Phân biệt rõ giữa các mã trong nhóm** (`phan_biet`)\n",
      "6. **Không xuất hiện từ ngoài mo_ta gốc** (ngoại trừ ngôn ngữ phụ trợ) (`khong_tu_ngoai`)\n",
      "7. **Định dạng hợp lý, rõ ràng** (`dinh_dang`)\n",
      "\n",
      "---\n",
      "\n",
      "## Đầu ra mong muốn:\n",
      "\n",
      "Với mỗi mã HS, trả về:\n",
      "- `mahs`\n",
      "- `dung_noi_dung`: true/false\n",
      "- `khong_them_thong_tin`: true/false\n",
      "- `ngon_ngu_tu_nhien`: true/false\n",
      "- `tranh_thuat_ngu`: true/false\n",
      "- `phan_biet`: true/false\n",
      "- `khong_tu_ngoai`: true/false\n",
      "- `dinh_dang`: true/false\n",
      "- `danh_gia`: \"Tốt\", \"Chấp nhận được\", hoặc \"Không đạt\"\n",
      "- `giai_thich`: Lý do ngắn gọn\n",
      "\n",
      "---\n",
      "\n",
      "## Định dạng JSON:\n",
      "\n",
      "{\n",
      "  \"0101\": [\n",
      "    {\n",
      "      \"mahs\": \"...\",\n",
      "      \"dung_noi_dung\": true,\n",
      "      \"khong_them_thong_tin\": true,\n",
      "      \"ngon_ngu_tu_nhien\": true,\n",
      "      \"tranh_thuat_ngu\": true,\n",
      "      \"phan_biet\": true,\n",
      "      \"khong_tu_ngoai\": true,\n",
      "      \"dinh_dang\": true,\n",
      "      \"danh_gia\": \"...\",\n",
      "      \"giai_thich\": \"...\"\n",
      "    }, ...\n",
      "  ]\n",
      "}\n",
      "\n",
      "---\n",
      "\n",
      "**Lưu ý:** Chỉ đánh giá dựa trên checklist, không áp đặt phong cách cá nhân.\n",
      "\n"
     ]
    }
   ],
   "source": [
    "# Xây dựng prompt cho 1 nhóm prefix (ví dụ nhóm đầu tiên)\n",
    "def build_prompt_for_evaluation(prefix: str, items: List[Dict]) -> str:\n",
    "    item_list = \"\".join(\n",
    "        f\"- {item['mahs']}:\\n\"\n",
    "        f\"  + Mô tả gốc: {item['mo_ta']}\\n\"\n",
    "        f\"  + Mô tả mới: {item['mo_ta_moi']}\\n\"\n",
    "        for item in items\n",
    "    )\n",
    "    prompt = f'''Bạn là chuyên gia đánh giá chất lượng mô tả hàng hóa theo mã HS code.\n",
    "      Dưới đây là các cặp mô tả gốc và mô tả mới thuộc nhóm {prefix}:\n",
    "      \\n\\n{item_list}\\n\\n---\\n\\n##\n",
    "        Nhiệm vụ:\\n\\nĐánh giá **từng cặp mô tả** (gốc và mới) \n",
    "        dựa theo các tiêu chí sau (chấm từng tiêu chí Đúng/Sai):\n",
    "        \\n\\n### Checklist đánh giá:\\n1. **Giữ đúng ngữ nghĩa** từ mô tả gốc\n",
    "          (`dung_noi_dung`)\\n2. **Không suy diễn / bổ sung ngoài** nội dung ban đầu (`khong_them_thong_tin`)\\n3. **Ngôn ngữ đời thường** (tự nhiên, dễ hiểu) (`ngon_ngu_tu_nhien`)\\n4. **Tránh thuật ngữ \\\"level\\\", \\\"tầng\\\", \\\"phân cấp\\\"...** (`tranh_thuat_ngu`)\\n5. **Phân biệt rõ giữa các mã trong nhóm** (`phan_biet`)\\n6. **Không xuất hiện từ ngoài mo_ta gốc** (ngoại trừ ngôn ngữ phụ trợ) (`khong_tu_ngoai`)\\n7. **Định dạng hợp lý, rõ ràng** (`dinh_dang`)\\n\\n---\\n\\n## Đầu ra mong muốn:\\n\\nVới mỗi mã HS, trả về:\\n- `mahs`\\n- `dung_noi_dung`: true/false\\n- `khong_them_thong_tin`: true/false\\n- `ngon_ngu_tu_nhien`: true/false\\n- `tranh_thuat_ngu`: true/false\\n- `phan_biet`: true/false\\n- `khong_tu_ngoai`: true/false\\n- `dinh_dang`: true/false\\n- `danh_gia`: \"Tốt\", \"Chấp nhận được\", hoặc \"Không đạt\"\\n- `giai_thich`: Lý do ngắn gọn\\n\\n---\\n\\n## Định dạng JSON:\\n\\n{{\\n  \"{prefix}\": [\\n    {{\\n      \"mahs\": \"...\",\\n      \"dung_noi_dung\": true,\\n      \"khong_them_thong_tin\": true,\\n      \"ngon_ngu_tu_nhien\": true,\\n      \"tranh_thuat_ngu\": true,\\n      \"phan_biet\": true,\\n      \"khong_tu_ngoai\": true,\\n      \"dinh_dang\": true,\\n      \"danh_gia\": \"...\",\\n      \"giai_thich\": \"...\"\\n    }}, ...\\n  ]\\n}}\\n\\n---\\n\\n**Lưu ý:** Chỉ đánh giá dựa trên checklist, không áp đặt phong cách cá nhân.\\n'''\n",
    "    return prompt\n",
    "\n",
    "# Lấy 1 nhóm ví dụ\n",
    "prefix, items = next(iter(grouped_data.items()))\n",
    "prompt = build_prompt_for_evaluation(prefix, items)\n",
    "print(prompt)"
   ]
  },
  {
   "cell_type": "code",
   "execution_count": 5,
   "id": "ba03ca5f",
   "metadata": {},
   "outputs": [],
   "source": [
    "# (Tuỳ chọn) Chuẩn bị hàm gọi LLM Gemini (chỉ chạy được nếu đã cấu hình API key và cài đúng thư viện)\n",
    "from google import genai\n",
    "def call_llm(prompt, model=\"gemini-2.0-flash-001\"):\n",
    "    load_dotenv()\n",
    "    api_key = os.getenv(\"GOOGLE_GENAI_API_KEY\")\n",
    "    if not api_key:\n",
    "        raise ValueError(\"API key không được tìm thấy. Vui lòng đặt GOOGLE_GENAI_API_KEY trong .env.\")\n",
    "    client = genai.Client(api_key=api_key)\n",
    "    response = client.models.generate_content(\n",
    "        model=model,\n",
    "        contents=prompt,\n",
    "        config={\n",
    "            \"response_mime_type\": \"application/json\"\n",
    "        },\n",
    "    )\n",
    "    return response.text"
   ]
  },
  {
   "cell_type": "code",
   "execution_count": 9,
   "id": "52edac34",
   "metadata": {},
   "outputs": [
    {
     "name": "stdout",
     "output_type": "stream",
     "text": [
      "{\n",
      "  \"0101\": [\n",
      "    {\n",
      "      \"mahs\": \"01012900\",\n",
      "      \"dung_noi_dung\": true,\n",
      "      \"khong_them_thong_tin\": true,\n",
      "      \"ngon_ngu_tu_nhien\": true,\n",
      "      \"tranh_thuat_ngu\": true,\n",
      "      \"phan_biet\": true,\n",
      "      \"khong_tu_ngoai\": true,\n",
      "      \"dinh_dang\": true,\n",
      "      \"danh_gia\": \"Tốt\",\n",
      "      \"giai_thich\": \"Mô tả mới giữ đúng nội dung, không thêm thông tin, ngôn ngữ tự nhiên và rõ ràng.\"\n",
      "    },\n",
      "    {\n",
      "      \"mahs\": \"01013010\",\n",
      "      \"dung_noi_dung\": true,\n",
      "      \"khong_them_thong_tin\": true,\n",
      "      \"ngon_ngu_tu_nhien\": true,\n",
      "      \"tranh_thuat_ngu\": true,\n",
      "      \"phan_biet\": true,\n",
      "      \"khong_tu_ngoai\": true,\n",
      "      \"dinh_dang\": true,\n",
      "      \"danh_gia\": \"Tốt\",\n",
      "      \"giai_thich\": \"Mô tả mới giữ đúng nội dung, không thêm thông tin, ngôn ngữ tự nhiên và rõ ràng.\"\n",
      "    },\n",
      "    {\n",
      "      \"mahs\": \"01013090\",\n",
      "      \"dung_noi_dung\": true,\n",
      "      \"khong_them_thong_tin\": true,\n",
      "      \"ngon_ngu_tu_nhien\": true,\n",
      "      \"tranh_thuat_ngu\": true,\n",
      "      \"phan_biet\": true,\n",
      "      \"khong_tu_ngoai\": true,\n",
      "      \"dinh_dang\": true,\n",
      "      \"danh_gia\": \"Tốt\",\n",
      "      \"giai_thich\": \"Mô tả mới giữ đúng nội dung, không thêm thông tin, ngôn ngữ tự nhiên và rõ ràng.\"\n",
      "    },\n",
      "    {\n",
      "      \"mahs\": \"01019000\",\n",
      "      \"dung_noi_dung\": true,\n",
      "      \"khong_them_thong_tin\": true,\n",
      "      \"ngon_ngu_tu_nhien\": true,\n",
      "      \"tranh_thuat_ngu\": true,\n",
      "      \"phan_biet\": true,\n",
      "      \"khong_tu_ngoai\": true,\n",
      "      \"dinh_dang\": true,\n",
      "      \"danh_gia\": \"Tốt\",\n",
      "      \"giai_thich\": \"Mô tả mới giữ đúng nội dung, không thêm thông tin, ngôn ngữ tự nhiên và rõ ràng.\"\n",
      "    }\n",
      "  ]\n",
      "}\n",
      "(Chạy cell này nếu đã cấu hình API key và cài đúng thư viện google-genai)\n"
     ]
    }
   ],
   "source": [
    "# (Tuỳ chọn) Gọi LLM cho 1 nhóm và hiển thị kết quả thô\n",
    "result = call_llm(prompt)\n",
    "print(result)\n",
    "print(\"(Chạy cell này nếu đã cấu hình API key và cài đúng thư viện google-genai)\")"
   ]
  },
  {
   "cell_type": "code",
   "execution_count": 7,
   "id": "f83d98b6",
   "metadata": {},
   "outputs": [],
   "source": [
    "# (Tuỳ chọn) Parse kết quả JSON từ LLM và hiển thị dạng bảng\n",
    "# raw_result = result  # Gán kết quả thô từ LLM vào biến này\n",
    "# try:\n",
    "#     data = json.loads(raw_result)\n",
    "#     if isinstance(data, dict):\n",
    "#         for v in data.values():\n",
    "#             if isinstance(v, list):\n",
    "#                 display(pd.DataFrame(v))\n",
    "#     elif isinstance(data, list):\n",
    "#         display(pd.DataFrame(data))\n",
    "#     else:\n",
    "#         print(\"Kết quả không đúng định dạng mong muốn\")\n",
    "# except Exception as e:\n",
    "#     print(\"Lỗi parse JSON:\", e)"
   ]
  },
  {
   "cell_type": "code",
   "execution_count": null,
   "id": "9e5d0316",
   "metadata": {},
   "outputs": [],
   "source": []
  }
 ],
 "metadata": {
  "kernelspec": {
   "display_name": "hscode",
   "language": "python",
   "name": "python3"
  },
  "language_info": {
   "codemirror_mode": {
    "name": "ipython",
    "version": 3
   },
   "file_extension": ".py",
   "mimetype": "text/x-python",
   "name": "python",
   "nbconvert_exporter": "python",
   "pygments_lexer": "ipython3",
   "version": "3.9.23"
  }
 },
 "nbformat": 4,
 "nbformat_minor": 5
}
