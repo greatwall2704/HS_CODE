{
 "cells": [
  {
   "cell_type": "code",
   "execution_count": 24,
   "id": "e48fcfb8",
   "metadata": {},
   "outputs": [],
   "source": [
    "import pandas as pd\n",
    "\n",
    "# Đọc file CSV ban đầu\n",
    "file_input = './data/total_data.csv'  # Đường dẫn tới file CSV gốc\n",
    "file_output = './data/working_data.csv'  # Đường dẫn tới file CSV mới"
   ]
  },
  {
   "cell_type": "markdown",
   "id": "cfec8b2b",
   "metadata": {},
   "source": [
    "### Lọc cột"
   ]
  },
  {
   "cell_type": "code",
   "execution_count": 26,
   "id": "165633cd",
   "metadata": {},
   "outputs": [
    {
     "name": "stderr",
     "output_type": "stream",
     "text": [
      "/tmp/ipykernel_2103738/2367208678.py:2: DtypeWarning: Columns (3,4,5,6,7,8,10,30,31,32,33,34,35,73,74,75,76,77,78,79,86,87,88,89,90,91,104,105,106,107,108,109,122,123,124,125,126,127,130,131,132,133,134) have mixed types. Specify dtype option on import or set low_memory=False.\n",
      "  df = pd.read_csv(file_input, dtype={'mahs': str})  # Ép kiểu cột 'mahs' thành chuỗi ngay khi đọc file\n",
      "/tmp/ipykernel_2103738/2367208678.py:8: SettingWithCopyWarning: \n",
      "A value is trying to be set on a copy of a slice from a DataFrame.\n",
      "Try using .loc[row_indexer,col_indexer] = value instead\n",
      "\n",
      "See the caveats in the documentation: https://pandas.pydata.org/pandas-docs/stable/user_guide/indexing.html#returning-a-view-versus-a-copy\n",
      "  df_filtered['mahs'] = df_filtered['mahs'].astype(str)\n",
      "/tmp/ipykernel_2103738/2367208678.py:9: SettingWithCopyWarning: \n",
      "A value is trying to be set on a copy of a slice from a DataFrame.\n",
      "Try using .loc[row_indexer,col_indexer] = value instead\n",
      "\n",
      "See the caveats in the documentation: https://pandas.pydata.org/pandas-docs/stable/user_guide/indexing.html#returning-a-view-versus-a-copy\n",
      "  df_filtered['mo_ta'] = df_filtered['mo_ta'].astype(str)\n"
     ]
    }
   ],
   "source": [
    "# Đọc dữ liệu từ file CSV vào DataFrame\n",
    "df = pd.read_csv(file_input, dtype={'mahs': str})  # Ép kiểu cột 'mahs' thành chuỗi ngay khi đọc file\n",
    "\n",
    "# Lấy chỉ hai cột 'mahs' và 'mo_ta'\n",
    "df_filtered = df[['mahs', 'mo_ta']]\n",
    "\n",
    "# Đảm bảo kiểu dữ liệu của 'mahs' và 'mo_ta' là chuỗi\n",
    "df_filtered['mahs'] = df_filtered['mahs'].astype(str)\n",
    "df_filtered['mo_ta'] = df_filtered['mo_ta'].astype(str)\n",
    "\n",
    "# # Lưu kết quả vào file CSV mới\n",
    "# df_filtered.to_csv(file_output, index=False)"
   ]
  },
  {
   "cell_type": "markdown",
   "id": "75d05fde",
   "metadata": {},
   "source": [
    "### Phân cấp"
   ]
  },
  {
   "cell_type": "code",
   "execution_count": 27,
   "id": "409e7b41",
   "metadata": {},
   "outputs": [
    {
     "name": "stderr",
     "output_type": "stream",
     "text": [
      "/tmp/ipykernel_2103738/3270982059.py:9: FutureWarning: DataFrame.applymap has been deprecated. Use DataFrame.map instead.\n",
      "  description = description.applymap(lambda x: x.strip() if isinstance(x, str) else x)  # Loại bỏ khoảng trắng thừa\n"
     ]
    }
   ],
   "source": [
    "# Tách chuỗi tại dấu \"/\"\n",
    "description = df_filtered['mo_ta'].str.split('/', expand=True)\n",
    "\n",
    "# Đổi tên các cột thành level 1, level 2, level 3, ...\n",
    "description.columns = [f'level {i+1}' for i in range(description.shape[1])]\n",
    "\n",
    "# Loại bỏ các dấu gạch ngang '-' trong tất cả các cột\n",
    "description = description.replace('-', '', regex=True)\n",
    "description = description.applymap(lambda x: x.strip() if isinstance(x, str) else x)  # Loại bỏ khoảng trắng thừa\n",
    "\n",
    "# Kết hợp với DataFrame ban đầu nếu cần\n",
    "df_splitted = pd.concat([df_filtered, description], axis=1)\n",
    "\n",
    "# Lưu kết quả vào file CSV mới\n",
    "df_splitted.to_csv(file_output, index=False)\n"
   ]
  },
  {
   "cell_type": "markdown",
   "id": "21f24970",
   "metadata": {},
   "source": [
    "### Thêm nhóm"
   ]
  },
  {
   "cell_type": "code",
   "execution_count": 28,
   "id": "fa53a95f",
   "metadata": {},
   "outputs": [],
   "source": [
    "df_added = df_splitted.copy()\n",
    "\n",
    "# Tạo cột 'nhom' trước\n",
    "nhom_values = df_added['mahs'].astype(str).str[:4]  # Lấy 4 chữ số đầu\n",
    "# Thêm dấu \".\" vào giữa 4 chữ số\n",
    "nhom_values = nhom_values.apply(lambda x: x[:2] + '.' + x[2:] if len(x) == 4 else x)\n",
    "\n",
    "# Chèn cột 'nhom' vào vị trí 1 (ngay sau cột 'mahs')\n",
    "df_added.insert(1, 'nhom', nhom_values)\n",
    "\n",
    "# Lưu kết quả vào file CSV mới\n",
    "df_added.to_csv(file_output, index=False)"
   ]
  }
 ],
 "metadata": {
  "kernelspec": {
   "display_name": "venv",
   "language": "python",
   "name": "python3"
  },
  "language_info": {
   "codemirror_mode": {
    "name": "ipython",
    "version": 3
   },
   "file_extension": ".py",
   "mimetype": "text/x-python",
   "name": "python",
   "nbconvert_exporter": "python",
   "pygments_lexer": "ipython3",
   "version": "3.13.2"
  }
 },
 "nbformat": 4,
 "nbformat_minor": 5
}
