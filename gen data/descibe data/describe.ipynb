{
 "cells": [
  {
   "cell_type": "code",
   "execution_count": 28,
   "id": "dcea4af2",
   "metadata": {},
   "outputs": [],
   "source": [
    "from google import genai\n",
    "from pydantic import BaseModel\n",
    "import json\n",
    "import asyncio\n",
    "from tqdm.asyncio import tqdm\n",
    "from collections import defaultdict\n",
    "import pandas as pd\n",
    "from typing import List, Dict\n",
    "from dotenv import load_dotenv\n",
    "import os\n",
    "from dotenv import load_dotenv"
   ]
  },
  {
   "cell_type": "code",
   "execution_count": 29,
   "id": "d0bae0de",
   "metadata": {},
   "outputs": [],
   "source": [
    "\n",
    "load_dotenv()\n",
    "api_key = os.getenv(\"GOOGLE_GENAI_API_KEY\")\n"
   ]
  },
  {
   "cell_type": "code",
   "execution_count": 16,
   "id": "e36f3a1c",
   "metadata": {},
   "outputs": [],
   "source": [
    "data_path = \"/home/vinh/HS Code/Data/df.csv\""
   ]
  },
  {
   "cell_type": "code",
   "execution_count": 17,
   "id": "5279ed5a",
   "metadata": {},
   "outputs": [],
   "source": [
    "# Đọc file CSV, ép kiểu tất cả các cột thành chuỗi\n",
    "df = pd.read_csv(data_path, dtype=str)\n",
    "data = df.head(12)\n",
    "data = data[['mahs', 'mo_ta']]"
   ]
  },
  {
   "cell_type": "code",
   "execution_count": 18,
   "id": "c68d6f75",
   "metadata": {},
   "outputs": [
    {
     "data": {
      "application/vnd.microsoft.datawrangler.viewer.v0+json": {
       "columns": [
        {
         "name": "index",
         "rawType": "int64",
         "type": "integer"
        },
        {
         "name": "mahs",
         "rawType": "object",
         "type": "string"
        },
        {
         "name": "mo_ta",
         "rawType": "object",
         "type": "string"
        }
       ],
       "ref": "8b7c2e26-12fa-47b2-8e9f-356b81e2d5e6",
       "rows": [
        [
         "0",
         "01012900",
         "Ngựa, lừa, la sống/- Ngựa:/- - Loại khác"
        ],
        [
         "1",
         "01013010",
         "Ngựa, lừa, la sống/- Lừa:/- - Loại thuần chủng để nhân giống"
        ],
        [
         "2",
         "01013090",
         "Ngựa, lừa, la sống/- Lừa:/- - Loại khác"
        ],
        [
         "3",
         "01019000",
         "Ngựa, lừa, la sống/- Loại khác"
        ],
        [
         "4",
         "01022100",
         "Động vật sống họ trâu bò/- Gia súc:/- - Loại thuần chủng để nhân giống"
        ],
        [
         "5",
         "01022911",
         "Động vật sống họ trâu bò/- Gia súc:/- - Loại khác:/- - - Gia súc đực:/- - - - Bò thiến (SEN)"
        ],
        [
         "6",
         "01022919",
         "Động vật sống họ trâu bò/- Gia súc:/- - Loại khác:/- - - Gia súc đực:/- - - - Loại khác"
        ],
        [
         "7",
         "01022990",
         "Động vật sống họ trâu bò/- Gia súc:/- - Loại khác:/- - - Loại khác"
        ],
        [
         "8",
         "01023100",
         "Động vật sống họ trâu bò/- Trâu:/- - Loại thuần chủng để nhân giống"
        ],
        [
         "9",
         "01023900",
         "Động vật sống họ trâu bò/- Trâu:/- - Loại khác"
        ],
        [
         "10",
         "01029010",
         "Động vật sống họ trâu bò/- Loại khác:/- - Loại thuần chủng để nhân giống"
        ],
        [
         "11",
         "01029090",
         "Động vật sống họ trâu bò/- Loại khác:/- - Loại khác"
        ]
       ],
       "shape": {
        "columns": 2,
        "rows": 12
       }
      },
      "text/html": [
       "<div>\n",
       "<style scoped>\n",
       "    .dataframe tbody tr th:only-of-type {\n",
       "        vertical-align: middle;\n",
       "    }\n",
       "\n",
       "    .dataframe tbody tr th {\n",
       "        vertical-align: top;\n",
       "    }\n",
       "\n",
       "    .dataframe thead th {\n",
       "        text-align: right;\n",
       "    }\n",
       "</style>\n",
       "<table border=\"1\" class=\"dataframe\">\n",
       "  <thead>\n",
       "    <tr style=\"text-align: right;\">\n",
       "      <th></th>\n",
       "      <th>mahs</th>\n",
       "      <th>mo_ta</th>\n",
       "    </tr>\n",
       "  </thead>\n",
       "  <tbody>\n",
       "    <tr>\n",
       "      <th>0</th>\n",
       "      <td>01012900</td>\n",
       "      <td>Ngựa, lừa, la sống/- Ngựa:/- - Loại khác</td>\n",
       "    </tr>\n",
       "    <tr>\n",
       "      <th>1</th>\n",
       "      <td>01013010</td>\n",
       "      <td>Ngựa, lừa, la sống/- Lừa:/- - Loại thuần chủng...</td>\n",
       "    </tr>\n",
       "    <tr>\n",
       "      <th>2</th>\n",
       "      <td>01013090</td>\n",
       "      <td>Ngựa, lừa, la sống/- Lừa:/- - Loại khác</td>\n",
       "    </tr>\n",
       "    <tr>\n",
       "      <th>3</th>\n",
       "      <td>01019000</td>\n",
       "      <td>Ngựa, lừa, la sống/- Loại khác</td>\n",
       "    </tr>\n",
       "    <tr>\n",
       "      <th>4</th>\n",
       "      <td>01022100</td>\n",
       "      <td>Động vật sống họ trâu bò/- Gia súc:/- - Loại t...</td>\n",
       "    </tr>\n",
       "    <tr>\n",
       "      <th>5</th>\n",
       "      <td>01022911</td>\n",
       "      <td>Động vật sống họ trâu bò/- Gia súc:/- - Loại k...</td>\n",
       "    </tr>\n",
       "    <tr>\n",
       "      <th>6</th>\n",
       "      <td>01022919</td>\n",
       "      <td>Động vật sống họ trâu bò/- Gia súc:/- - Loại k...</td>\n",
       "    </tr>\n",
       "    <tr>\n",
       "      <th>7</th>\n",
       "      <td>01022990</td>\n",
       "      <td>Động vật sống họ trâu bò/- Gia súc:/- - Loại k...</td>\n",
       "    </tr>\n",
       "    <tr>\n",
       "      <th>8</th>\n",
       "      <td>01023100</td>\n",
       "      <td>Động vật sống họ trâu bò/- Trâu:/- - Loại thuầ...</td>\n",
       "    </tr>\n",
       "    <tr>\n",
       "      <th>9</th>\n",
       "      <td>01023900</td>\n",
       "      <td>Động vật sống họ trâu bò/- Trâu:/- - Loại khác</td>\n",
       "    </tr>\n",
       "    <tr>\n",
       "      <th>10</th>\n",
       "      <td>01029010</td>\n",
       "      <td>Động vật sống họ trâu bò/- Loại khác:/- - Loại...</td>\n",
       "    </tr>\n",
       "    <tr>\n",
       "      <th>11</th>\n",
       "      <td>01029090</td>\n",
       "      <td>Động vật sống họ trâu bò/- Loại khác:/- - Loại...</td>\n",
       "    </tr>\n",
       "  </tbody>\n",
       "</table>\n",
       "</div>"
      ],
      "text/plain": [
       "        mahs                                              mo_ta\n",
       "0   01012900           Ngựa, lừa, la sống/- Ngựa:/- - Loại khác\n",
       "1   01013010  Ngựa, lừa, la sống/- Lừa:/- - Loại thuần chủng...\n",
       "2   01013090            Ngựa, lừa, la sống/- Lừa:/- - Loại khác\n",
       "3   01019000                     Ngựa, lừa, la sống/- Loại khác\n",
       "4   01022100  Động vật sống họ trâu bò/- Gia súc:/- - Loại t...\n",
       "5   01022911  Động vật sống họ trâu bò/- Gia súc:/- - Loại k...\n",
       "6   01022919  Động vật sống họ trâu bò/- Gia súc:/- - Loại k...\n",
       "7   01022990  Động vật sống họ trâu bò/- Gia súc:/- - Loại k...\n",
       "8   01023100  Động vật sống họ trâu bò/- Trâu:/- - Loại thuầ...\n",
       "9   01023900     Động vật sống họ trâu bò/- Trâu:/- - Loại khác\n",
       "10  01029010  Động vật sống họ trâu bò/- Loại khác:/- - Loại...\n",
       "11  01029090  Động vật sống họ trâu bò/- Loại khác:/- - Loại..."
      ]
     },
     "execution_count": 18,
     "metadata": {},
     "output_type": "execute_result"
    }
   ],
   "source": [
    "data"
   ]
  },
  {
   "cell_type": "code",
   "execution_count": 19,
   "id": "49f20277",
   "metadata": {},
   "outputs": [],
   "source": [
    "def group_by_hs_prefix(df):\n",
    "    grouped = defaultdict(list)\n",
    "    for _, row in df.iterrows():\n",
    "        mahs_value = row['mahs']\n",
    "        prefix = str(mahs_value)[:4]  # Chuyển sang chuỗi và lấy 4 ký tự đầu\n",
    "        grouped[prefix].append(row.to_dict())  # Chuyển hàng thành từ điển\n",
    "    return grouped"
   ]
  },
  {
   "cell_type": "code",
   "execution_count": 20,
   "id": "5d90bc88",
   "metadata": {},
   "outputs": [],
   "source": [
    "class SimpleHSCodeItem(BaseModel):\n",
    "    mahs: str\n",
    "    mo_ta: str\n",
    "\n",
    "class SimpleHSCodeGroup(BaseModel):\n",
    "    items: List[SimpleHSCodeItem]"
   ]
  },
  {
   "cell_type": "code",
   "execution_count": 21,
   "id": "b942c03a",
   "metadata": {},
   "outputs": [],
   "source": [
    "grouped_data = group_by_hs_prefix(data)"
   ]
  },
  {
   "cell_type": "code",
   "execution_count": 22,
   "id": "b413daca",
   "metadata": {},
   "outputs": [
    {
     "data": {
      "text/plain": [
       "defaultdict(list,\n",
       "            {'0101': [{'mahs': '01012900',\n",
       "               'mo_ta': 'Ngựa, lừa, la sống/- Ngựa:/- - Loại khác'},\n",
       "              {'mahs': '01013010',\n",
       "               'mo_ta': 'Ngựa, lừa, la sống/- Lừa:/- - Loại thuần chủng để nhân giống'},\n",
       "              {'mahs': '01013090',\n",
       "               'mo_ta': 'Ngựa, lừa, la sống/- Lừa:/- - Loại khác'},\n",
       "              {'mahs': '01019000', 'mo_ta': 'Ngựa, lừa, la sống/- Loại khác'}],\n",
       "             '0102': [{'mahs': '01022100',\n",
       "               'mo_ta': 'Động vật sống họ trâu bò/- Gia súc:/- - Loại thuần chủng để nhân giống'},\n",
       "              {'mahs': '01022911',\n",
       "               'mo_ta': 'Động vật sống họ trâu bò/- Gia súc:/- - Loại khác:/- - - Gia súc đực:/- - - - Bò thiến (SEN)'},\n",
       "              {'mahs': '01022919',\n",
       "               'mo_ta': 'Động vật sống họ trâu bò/- Gia súc:/- - Loại khác:/- - - Gia súc đực:/- - - - Loại khác'},\n",
       "              {'mahs': '01022990',\n",
       "               'mo_ta': 'Động vật sống họ trâu bò/- Gia súc:/- - Loại khác:/- - - Loại khác'},\n",
       "              {'mahs': '01023100',\n",
       "               'mo_ta': 'Động vật sống họ trâu bò/- Trâu:/- - Loại thuần chủng để nhân giống'},\n",
       "              {'mahs': '01023900',\n",
       "               'mo_ta': 'Động vật sống họ trâu bò/- Trâu:/- - Loại khác'},\n",
       "              {'mahs': '01029010',\n",
       "               'mo_ta': 'Động vật sống họ trâu bò/- Loại khác:/- - Loại thuần chủng để nhân giống'},\n",
       "              {'mahs': '01029090',\n",
       "               'mo_ta': 'Động vật sống họ trâu bò/- Loại khác:/- - Loại khác'}]})"
      ]
     },
     "execution_count": 22,
     "metadata": {},
     "output_type": "execute_result"
    }
   ],
   "source": [
    "grouped_data"
   ]
  },
  {
   "cell_type": "code",
   "execution_count": 23,
   "id": "a25a5300",
   "metadata": {},
   "outputs": [
    {
     "name": "stdout",
     "output_type": "stream",
     "text": [
      "<class 'collections.defaultdict'>\n"
     ]
    }
   ],
   "source": [
    "print(type(grouped_data))"
   ]
  },
  {
   "cell_type": "code",
   "execution_count": 24,
   "id": "bb37a935",
   "metadata": {},
   "outputs": [],
   "source": [
    "def build_prompt_for_description(prefix: str, items: List[Dict]) -> str:\n",
    "    prompt = \"\"\"Bạn là chuyên gia về phân loại HS code. Dưới đây là thông tin về các mã HS code thuộc nhóm {prefix}:\n",
    "\n",
    "{items_list}\n",
    "\n",
    "Nhiệm vụ: Tái cấu trúc lại mô tả (`mo_ta`) cho từng mã HS code để mô tả rõ ràng, sinh động, và phân biệt các mã trong cùng nhóm. \n",
    "\n",
    "Yêu cầu:\n",
    "- Mô tả mới phải dựa hoàn toàn trên thông tin trong `mo_ta` hiện tại, không thêm hoặc suy diễn thông tin ngoài dữ liệu cung cấp.\n",
    "- Mô tả cần rõ ràng, tự nhiên, như cách một chuyên gia giải thích cho người dùng thông thường.\n",
    "- Làm nổi bật sự khác biệt giữa các mã trong nhóm {prefix}, ví dụ: loại động vật, mục đích sử dụng, hoặc đặc điểm cụ thể.\n",
    "- Mỗi mô tả bắt đầu bằng mã HS (`mahs`), nêu rõ nó thuộc nhóm {prefix}, và giải thích chi tiết nội dung của `mo_ta`.\n",
    "- Trả về đúng định dạng JSON sau, giữ nguyên cấu trúc đầu vào:\n",
    "\n",
    "{{\n",
    "  \"{prefix}\": [\n",
    "    {{\n",
    "      \"mahs\": \"mã HS\",\n",
    "      \"mo_ta\": \"mô tả mới\"\n",
    "    }},\n",
    "    ...\n",
    "  ]\n",
    "}}\n",
    "\n",
    "Ví dụ:\n",
    "Nếu đầu vào là:\n",
    "- 01012900: Ngựa, lừa, la sống/- Ngựa:/- - Loại khác\n",
    "- 01013010: Ngựa, lừa, la sống/- Lừa:/- - Loại thuần chủng để nhân giống\n",
    "\n",
    "Đầu ra mong muốn:\n",
    "{{\n",
    "  \"0101\": [\n",
    "    {{\n",
    "      \"mahs\": \"01012900\",\n",
    "      \"mo_ta\": \"Mã 01012900 thuộc nhóm 0101 (Ngựa, lừa, la sống), áp dụng cho ngựa, cụ thể là các loại ngựa không thuộc diện thuần chủng hoặc nhân giống.\"\n",
    "    }},\n",
    "    {{\n",
    "      \"mahs\": \"01013010\",\n",
    "      \"mo_ta\": \"Mã 01013010 thuộc nhóm 0101 (Ngựa, lừa, la sống), áp dụng cho lừa, cụ thể là loại lừa thuần chủng được nuôi để nhân giống.\"\n",
    "    }}\n",
    "  ]\n",
    "}}\n",
    "\"\"\"\n",
    "    items_list = \"\\n\".join(f\"- {item['mahs']}: {item['mo_ta']}\" for item in items)\n",
    "    return prompt.format(prefix=prefix, items_list=items_list)"
   ]
  },
  {
   "cell_type": "code",
   "execution_count": 30,
   "id": "3fc6bd36",
   "metadata": {},
   "outputs": [],
   "source": [
    "import json\n",
    "import csv\n",
    "\n",
    "async def fetch_and_save_hscode_csv(output_file=\"/home/vinh/HS Code/Data/new_mota.csv\", model=\"gemini-2.0-flash-001\"):\n",
    "    all_rows = []  # chứa tất cả các dòng dữ liệu từ mọi prefix\n",
    "    client = genai.Client(api_key=api_key)\n",
    "\n",
    "    for prefix, items in grouped_data.items():\n",
    "        prompt = build_prompt_for_description(prefix, items)\n",
    "        \n",
    "        response = client.models.generate_content(\n",
    "            model=model,\n",
    "            contents=prompt,\n",
    "            config={\n",
    "                \"response_mime_type\": \"application/json\",\n",
    "                \"response_schema\": SimpleHSCodeGroup\n",
    "            },\n",
    "        )\n",
    "\n",
    "        raw_text = response.text\n",
    "\n",
    "        try:\n",
    "            data = json.loads(raw_text)\n",
    "            if \"items\" in data and isinstance(data[\"items\"], list):\n",
    "                all_rows.extend(data[\"items\"])\n",
    "            else:\n",
    "                print(f\"⚠️ Không tìm thấy 'items' hoặc không phải list tại prefix {prefix}\")\n",
    "        except json.JSONDecodeError:\n",
    "            print(f\"❌ JSON lỗi ở prefix {prefix}: {raw_text}\")\n",
    "\n",
    "    # Ghi dữ liệu ra file CSV\n",
    "    with open(output_file, mode=\"w\", encoding=\"utf-8\", newline=\"\") as f:\n",
    "        writer = csv.DictWriter(f, fieldnames=[\"mahs\", \"mo_ta\"])\n",
    "        writer.writeheader()\n",
    "        writer.writerows(all_rows)\n",
    "\n",
    "    print(f\"✅ Đã lưu kết quả vào file: {output_file}\")\n"
   ]
  },
  {
   "cell_type": "code",
   "execution_count": 31,
   "id": "1115c081",
   "metadata": {},
   "outputs": [
    {
     "name": "stdout",
     "output_type": "stream",
     "text": [
      "✅ Đã lưu kết quả vào file: /home/vinh/HS Code/Data/new_mota.csv\n",
      "None\n"
     ]
    }
   ],
   "source": [
    "output_path = \"/home/vinh/HS Code/Data/new_mota.csv\"\n",
    "model = \"gemini-2.0-flash-001\"\n",
    "result = await fetch_and_save_hscode_csv(output_path, model)\n",
    "print(result)\n"
   ]
  },
  {
   "cell_type": "code",
   "execution_count": 32,
   "id": "3eaa1b66",
   "metadata": {},
   "outputs": [],
   "source": [
    "import json\n",
    "\n",
    "# Giả sử result là dict của bạn\n",
    "with open(\"/home/vinh/HS Code/Data/new_mota.csv\", \"w\", encoding=\"utf-8\") as f:\n",
    "    json.dump(result, f, ensure_ascii=False, indent=4)\n"
   ]
  },
  {
   "cell_type": "code",
   "execution_count": null,
   "id": "1191560e",
   "metadata": {},
   "outputs": [],
   "source": []
  },
  {
   "cell_type": "code",
   "execution_count": null,
   "id": "937fda06",
   "metadata": {},
   "outputs": [],
   "source": []
  }
 ],
 "metadata": {
  "kernelspec": {
   "display_name": "hscode",
   "language": "python",
   "name": "python3"
  },
  "language_info": {
   "codemirror_mode": {
    "name": "ipython",
    "version": 3
   },
   "file_extension": ".py",
   "mimetype": "text/x-python",
   "name": "python",
   "nbconvert_exporter": "python",
   "pygments_lexer": "ipython3",
   "version": "3.9.23"
  }
 },
 "nbformat": 4,
 "nbformat_minor": 5
}
