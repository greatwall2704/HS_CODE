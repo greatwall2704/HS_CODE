{
 "cells": [
  {
   "cell_type": "code",
   "execution_count": 1,
   "id": "dcea4af2",
   "metadata": {},
   "outputs": [],
   "source": [
    "from google import genai\n",
    "from pydantic import BaseModel\n",
    "import json\n",
    "import asyncio\n",
    "from tqdm.asyncio import tqdm\n",
    "from collections import defaultdict\n",
    "import pandas as pd\n",
    "from typing import List, Dict\n"
   ]
  },
  {
   "cell_type": "code",
   "execution_count": 2,
   "id": "0e658fc7",
   "metadata": {},
   "outputs": [],
   "source": [
    "import os\n",
    "from dotenv import load_dotenv\n",
    "load_dotenv()\n",
    "api_key = os.getenv(\"GOOGLE_GENAI_API_KEY\")"
   ]
  },
  {
   "cell_type": "code",
   "execution_count": 3,
   "id": "49f20277",
   "metadata": {},
   "outputs": [],
   "source": [
    "def group_by_hs_prefix(df):\n",
    "    grouped = defaultdict(list)\n",
    "    for _, row in df.iterrows():\n",
    "        mahs_value = row['mahs']\n",
    "        prefix = str(mahs_value)[:4]  # Chuyển sang chuỗi và lấy 4 ký tự đầu\n",
    "        grouped[prefix].append(row.to_dict())  # Chuyển hàng thành từ điển\n",
    "    return grouped\n"
   ]
  },
  {
   "cell_type": "code",
   "execution_count": 4,
   "id": "5d90bc88",
   "metadata": {},
   "outputs": [],
   "source": [
    "\n",
    "class QAItem(BaseModel):\n",
    "    question: str\n",
    "    answer: str\n",
    "\n",
    "class QAList(BaseModel):\n",
    "    items: list[QAItem]"
   ]
  },
  {
   "cell_type": "code",
   "execution_count": 5,
   "id": "24ed3717",
   "metadata": {},
   "outputs": [],
   "source": [
    "from typing import List, Dict\n",
    "\n",
    "def build_prompt_for_group(prefix: str, items: List[Dict]) -> str:\n",
    "    items_list = \"\\n\".join(\n",
    "        f\"- {item['mahs']}: {item['mo_ta']}\" for item in items\n",
    "    )\n",
    "    num_questions = 5 * len(items)  # tính số câu hỏi theo yêu cầu\n",
    "\n",
    "    prompt = f\"\"\"Bạn là chuyên gia phân loại mã HS Code. Dưới đây là danh sách các mã HS thuộc nhóm {prefix} cùng mô tả chi tiết:\n",
    "\n",
    "{items_list}\n",
    "\n",
    "---\n",
    "**Mục tiêu:** Tạo ra **{num_questions} cặp câu hỏi và câu trả lời tự nhiên**, tương đương **5 cặp cho mỗi mã HS** trong nhóm.\n",
    "\n",
    "---\n",
    "\n",
    "✅ **Yêu cầu cụ thể**:\n",
    "1. **Ngôn ngữ đời thường**, tự nhiên, thân thiện như trong hội thoại hằng ngày.\n",
    "2. Câu hỏi mang tính **thực tiễn**, ví dụ:\n",
    "   - “Tôi đang chuẩn bị nhập khẩu con X, thì dùng mã nào?”\n",
    "   - “Hai mã này khác nhau ở chỗ nào khi làm thủ tục?”\n",
    "   - “Loại nào áp dụng cho hàng giống và loại nào cho hàng không giống?”\n",
    "3. Tập trung vào **so sánh, phân biệt, hướng dẫn chọn mã** giữa các mã HS trong cùng nhóm.\n",
    "4. Nội dung phải **ngắn gọn nhưng dễ hiểu**, phù hợp với người không chuyên về hải quan hoặc HS code.\n",
    "5. Tránh thuật ngữ chuyên ngành khó hiểu; thay vào đó, dùng ví dụ cụ thể, tình huống nhập hàng, kinh doanh, kê khai thực tế.\n",
    "\n",
    "---\n",
    "\n",
    "📦 **Đầu ra mong muốn**: Trả về đúng định dạng JSON sau:\n",
    "\n",
    "{{\n",
    "  \"items\": [\n",
    "    {{\n",
    "      \"question\": \"Sự khác biệt giữa mã 01013010 và 01013090 là gì?\",\n",
    "      \"answer\": \"01013010 dùng cho lừa thuần chủng để nhân giống, còn 01013090 là các loại lừa khác không dùng nhân giống.\"\n",
    "    }},\n",
    "    ...\n",
    "  ]\n",
    "}}\n",
    "\n",
    "Lưu ý: Trả về **chỉ JSON**, không có giải thích hoặc mô tả nào thêm.\n",
    "\"\"\"\n",
    "\n",
    "    return prompt\n"
   ]
  },
  {
   "cell_type": "code",
   "execution_count": 6,
   "id": "1115c081",
   "metadata": {},
   "outputs": [],
   "source": [
    "import json\n",
    "\n",
    "async def fetch_hscode_qa_from_csv(grouped_data: dict, model=\"gemini-2.0-flash-001\"):\n",
    "    all_qas = []  # List gom tất cả câu hỏi-đáp từ các prefix\n",
    "\n",
    "    client = genai.Client(api_key=api_key)\n",
    "\n",
    "    for prefix, items in grouped_data.items():\n",
    "        content_data = build_prompt_for_group(prefix, items)\n",
    "\n",
    "        response = client.models.generate_content(\n",
    "            model=model,\n",
    "            contents=content_data,\n",
    "            config={\n",
    "                \"response_mime_type\": \"application/json\",\n",
    "                \"response_schema\": QAList\n",
    "            },\n",
    "        )\n",
    "\n",
    "        # Parse response.text JSON ra dict rồi lấy phần \"items\"\n",
    "        data = json.loads(response.text)\n",
    "\n",
    "        if \"items\" in data:\n",
    "            all_qas.extend(data[\"items\"])  # Thêm vào list chung\n",
    "\n",
    "    return all_qas\n"
   ]
  },
  {
   "cell_type": "code",
   "execution_count": 7,
   "id": "1479bb86",
   "metadata": {},
   "outputs": [
    {
     "name": "stdout",
     "output_type": "stream",
     "text": [
      "[{'question': 'Nếu tôi nhập ngựa không phải để nhân giống thì dùng mã 01012900 đúng không?', 'answer': 'Đúng vậy, mã 01012900 dành cho ngựa sống không dùng để nhân giống.'}, {'question': 'Mã 01012900 áp dụng cho loại ngựa nào?', 'answer': 'Mã này dùng cho các loại ngựa sống khác, trừ ngựa thuần chủng dùng để nhân giống.'}, {'question': 'Ngựa đua nhập về thì có dùng mã 01012900 được không?', 'answer': 'Có, nếu ngựa đua không phải là ngựa thuần chủng để nhân giống thì dùng mã 01012900.'}, {'question': 'Sự khác biệt chính giữa ngựa thuộc mã 01012900 và các mã khác trong nhóm 0101 là gì?', 'answer': '01012900 dành cho ngựa không dùng vào mục đích nhân giống, còn các mã khác có thể dành cho ngựa giống hoặc các loài khác như lừa, la.'}, {'question': 'Khi nào thì không dùng mã 01012900?', 'answer': 'Khi nhập ngựa thuần chủng để nhân giống, bạn sẽ không dùng mã 01012900.'}, {'question': 'Tôi nhập lừa thuần chủng để gây giống thì dùng mã nào?', 'answer': 'Bạn dùng mã 01013010 cho lừa thuần chủng để nhân giống.'}, {'question': 'Mã 01013010 chỉ dùng cho trường hợp nào?', 'answer': 'Mã này chỉ dùng cho lừa sống thuần chủng với mục đích nhân giống.'}, {'question': 'Nếu lừa con được nhập về để nuôi lớn rồi bán thịt thì dùng mã 01013010 được không?', 'answer': 'Không, mã 01013010 chỉ dành cho lừa thuần chủng nhập để nhân giống.'}, {'question': 'So sánh mã 01013010 và 01013090?', 'answer': 'Mã 01013010 là lừa thuần chủng để nhân giống, còn 01013090 là lừa thông thường.'}, {'question': 'Làm sao để biết con lừa mình nhập có đủ tiêu chuẩn để dùng mã 01013010 không?', 'answer': 'Bạn cần có giấy tờ chứng minh đó là lừa thuần chủng và nhập về để nhân giống.'}, {'question': 'Nếu nhập lừa nhưng không phải để nhân giống thì dùng mã nào?', 'answer': 'Bạn dùng mã 01013090 cho các loại lừa không dùng để nhân giống.'}, {'question': 'Mã 01013090 khác gì so với mã 01013010?', 'answer': '01013090 dành cho lừa thông thường, còn 01013010 là lừa thuần chủng để nhân giống.'}, {'question': 'Trường hợp nào thì chắc chắn dùng mã 01013090?', 'answer': 'Khi bạn nhập lừa không có giấy tờ chứng minh là lừa giống và không có mục đích nhân giống.'}, {'question': 'Tôi nhập lừa về để kéo xe thì dùng mã HS nào?', 'answer': 'Bạn dùng mã 01013090, vì mục đích sử dụng không phải là nhân giống.'}, {'question': 'Tôi thấy mã 01013090 có vẻ chung chung, vậy có rủi ro gì khi dùng mã này không?', 'answer': 'Mã này khá rộng, nhưng nếu lừa của bạn không phải lừa giống thì dùng mã này là phù hợp.'}, {'question': 'Mã 01019000 dùng cho con gì?', 'answer': 'Mã này dùng cho các loại động vật thuộc nhóm ngựa, lừa, la, nhưng không phải ngựa hay lừa, ví dụ như con la.'}, {'question': 'Nếu tôi nhập la thì chắc chắn dùng mã 01019000 đúng không?', 'answer': 'Đúng vậy, mã 01019000 dành riêng cho các loài như la.'}, {'question': 'Mã 01019000 khác gì so với các mã 0101 khác?', 'answer': 'Các mã khác dành cho ngựa và lừa, còn 01019000 dành cho các loài khác trong nhóm như la.'}, {'question': 'Ngoài la ra thì còn con vật nào dùng mã 01019000 nữa không?', 'answer': 'Các loại động vật lai khác thuộc họ ngựa, lừa, la và không được phân loại ở các mã khác cũng có thể dùng mã này.'}, {'question': 'Nếu không chắc con vật mình nhập là gì, chỉ biết nó thuộc họ ngựa thì dùng mã nào?', 'answer': 'Nếu không phải ngựa hay lừa, bạn có thể tham khảo mã 01019000.'}, {'question': 'Nếu nhập bò giống Brahman thuần chủng để cải tạo giống thì dùng mã HS nào?', 'answer': 'Dùng mã 01022100, vì đây là gia súc thuần chủng dùng cho mục đích nhân giống.'}, {'question': 'Trường hợp nhập bò thịt thông thường, không phải giống thì khai mã nào?', 'answer': 'Bạn khai mã 01022990, áp dụng cho gia súc khác, không phải loại thuần chủng để nhân giống.'}, {'question': 'Nếu nhập con bò đực đã thiến thì dùng mã 01022911 đúng không?', 'answer': 'Đúng vậy, mã 01022911 áp dụng cho gia súc đực đã thiến (bò thiến).'}, {'question': 'Mã 01022100 và 01022990 khác nhau như thế nào?', 'answer': '01022100 là bò thuần chủng để nhân giống, còn 01022990 là bò thịt thông thường, không phải giống.'}, {'question': 'Nhập bò tót đực trưởng thành để lấy tinh trùng thì dùng mã nào?', 'answer': 'Bạn dùng mã 01022919 vì đây là gia súc đực khác không phải bò thiến và không phải loại thuần chủng để nhân giống.'}, {'question': 'Nhập trâu Murrah thuần chủng để nhân giống thì dùng mã HS nào?', 'answer': 'Sử dụng mã 01023100, dành cho trâu thuần chủng dùng cho mục đích nhân giống.'}, {'question': 'Nếu nhập trâu thịt bình thường, không phải để nhân giống thì dùng mã HS nào?', 'answer': 'Bạn dùng mã 01023900, áp dụng cho các loại trâu khác không phải loại thuần chủng để nhân giống.'}, {'question': 'Mã 01023100 và 01023900 khác nhau cơ bản ở điểm nào?', 'answer': '01023100 là trâu thuần chủng để nhân giống, còn 01023900 là trâu thịt thông thường.'}, {'question': 'Khi nhập trâu cái tơ về nuôi thì sử dụng mã 01023900 có đúng không?', 'answer': 'Đúng, vì 01023900 dành cho các loại trâu khác không phải thuần chủng để nhân giống.'}, {'question': 'Tôi nhập trâu đực giống nhưng không có giấy tờ chứng minh thuần chủng thì dùng mã nào?', 'answer': 'Bạn dùng mã 01023900, vì không chứng minh được là thuần chủng.'}, {'question': 'Nhập bò Tây Tạng thuần chủng để gây giống thì dùng mã nào?', 'answer': 'Dùng mã 01029010, vì đây là động vật khác thuộc họ trâu bò thuần chủng để nhân giống (không phải gia súc hoặc trâu).'}, {'question': 'Nếu nhập bò rừng thông thường (không thuần chủng) thì dùng mã HS nào?', 'answer': 'Sử dụng mã 01029090, áp dụng cho động vật khác thuộc họ trâu bò (không phải gia súc hoặc trâu) và không thuần chủng.'}, {'question': 'So sánh sự khác nhau giữa mã 01029010 và 01029090?', 'answer': '01029010 là động vật họ trâu bò khác thuần chủng để nhân giống, còn 01029090 là loại không thuần chủng.'}, {'question': 'Nếu nhập bò Yak không rõ nguồn gốc thuần chủng thì dùng mã nào?', 'answer': 'Bạn dùng mã 01029090 vì không chứng minh được là thuần chủng.'}, {'question': 'Tôi nhập một loại bò lạ từ Châu Phi về, không phải trâu hay bò nhà, để nuôi cảnh thì dùng mã nào?', 'answer': 'Bạn dùng mã 01029090 vì nó không phải gia súc hoặc trâu và không thuộc loại thuần chủng để nhân giống.'}, {'question': 'Mã 01022911 và 01022919 khác nhau ở điểm gì?', 'answer': '01022911 là gia súc đực đã thiến (bò thiến), còn 01022919 là các loại gia súc đực khác.'}, {'question': 'Nếu nhập bò đực giống nhưng chưa thiến, không thuộc giống thuần chủng thì dùng mã nào?', 'answer': 'Dùng mã 01022919 vì đây là các loại gia súc đực khác (không phải bò thiến và không phải loại thuần chủng).'}, {'question': 'Tôi nhập bò cái tơ về nuôi thịt, không phải mục đích nhân giống, thì dùng mã nào?', 'answer': 'Dùng mã 01022990 vì đây là gia súc khác, không phải gia súc đực và không phải loại thuần chủng để nhân giống.'}, {'question': 'Có thể dùng mã 01022100 để nhập bò Kobe được không?', 'answer': 'Không, 01022100 chỉ dùng cho gia súc thuần chủng được nuôi với mục đích nhân giống. Bò Kobe thường nhập để lấy thịt.'}, {'question': 'Sự khác biệt chính giữa các mã thuộc nhóm 0102 là gì?', 'answer': 'Chủ yếu là dựa vào giống (thuần chủng hay không) và mục đích sử dụng (nhân giống hay lấy thịt).'}, {'question': 'Nếu nhập trâu cái Mura thuần chủng với mục đích nhân giống, tôi dùng mã 01023100 đúng không?', 'answer': 'Hoàn toàn chính xác, mã 01023100 dành cho trâu thuần chủng với mục đích nhân giống.'}, {'question': 'Nhập trâu chọi về để tham gia lễ hội chọi trâu thì dùng mã 01023900 có hợp lý không?', 'answer': 'Hợp lý, vì 01023900 áp dụng cho các loại trâu khác không phải loại thuần chủng để nhân giống.'}, {'question': 'Nếu nhập trâu rừng hoang dã thì dùng mã nào?', 'answer': 'Dùng mã 01023900 vì nó không phải loại thuần chủng để nhân giống.'}, {'question': 'Khi nào thì dùng mã 01023100 thay vì 01023900?', 'answer': 'Dùng 01023100 khi nhập trâu thuần chủng để nhân giống, còn 01023900 cho các loại trâu khác.'}, {'question': 'Tôi nhập trâu đực non về vỗ béo để bán thịt thì dùng mã nào?', 'answer': 'Dùng mã 01023900 vì nó không phải loại thuần chủng để nhân giống.'}, {'question': 'Nếu tôi nhập bò Bison thuần chủng để gây giống thì dùng mã nào?', 'answer': 'Dùng mã 01029010, vì đây là động vật khác thuộc họ trâu bò thuần chủng được nuôi với mục đích nhân giống.'}, {'question': 'Nhập bò sừng dài của Mỹ về nuôi làm cảnh thì dùng mã nào?', 'answer': 'Dùng mã 01029090, vì nó thuộc loại động vật khác thuộc họ trâu bò (không phải gia súc hoặc trâu) và không phải loại thuần chủng để nhân giống.'}, {'question': 'Mã 01029010 chỉ dành cho bò giống thuần chủng phải không?', 'answer': 'Không chỉ bò mà là các loại động vật khác thuộc họ trâu bò thuần chủng dùng để nhân giống (ngoài trâu và bò nhà).'}, {'question': 'Khi nào thì không thể dùng mã 01029010?', 'answer': 'Khi nhập gia súc (bò) hoặc trâu thuần chủng, bạn phải dùng 01022100 hoặc 01023100 tương ứng.'}, {'question': 'Tôi nhập bò Kouprey từ Campuchia về để bảo tồn thì dùng mã nào?', 'answer': 'Dùng mã 01029090 vì nó không phải gia súc hoặc trâu và không thuộc loại thuần chủng để nhân giống.'}, {'question': 'Mã 01022100 áp dụng cho những loại bò nào?', 'answer': 'Áp dụng cho gia súc thuần chủng được nuôi với mục đích nhân giống, ví dụ như bò Brahman, bò Angus thuần chủng.'}, {'question': 'Tôi muốn nhập bò sữa Holstein Friesian để sản xuất sữa, thì dùng mã nào?', 'answer': 'Bạn cần xác định rõ là có phải bò thuần chủng dùng để nhân giống hay không. Nếu thuần chủng để nhân giống thì dùng 01022100, nếu không thì dùng 01022990.'}, {'question': 'Nếu tôi nhập bò Wagyu từ Nhật Bản về để vỗ béo, thì dùng mã nào?', 'answer': 'Bạn dùng mã 01022990, vì đây là gia súc khác (không phải gia súc đực và không phải loại thuần chủng để nhân giống).'}, {'question': 'Tôi nhập bò đực giống Sindhi, đã thiến, thì dùng mã HS nào?', 'answer': 'Dùng mã 01022911 vì đây là gia súc đực đã thiến (bò thiến).'}, {'question': 'Nếu tôi nhập bò Murrah đực, không thiến, để lấy tinh trùng, thì dùng mã nào?', 'answer': 'Dùng mã 01022919 vì đây là các loại gia súc đực khác.'}, {'question': 'Tôi nhập trâu cái sinh sản, không rõ nguồn gốc, thì dùng mã nào?', 'answer': 'Dùng mã 01023900 vì đây là các loại trâu khác (không phải loại thuần chủng để nhân giống).'}, {'question': 'Nếu tôi nhập trâu nước hoang dã thì dùng mã HS nào?', 'answer': 'Dùng mã 01023900 vì đây là các loại trâu khác (không phải loại thuần chủng để nhân giống).'}, {'question': 'Tôi muốn nhập trâu đực giống nội địa thì dùng mã nào?', 'answer': 'Bạn cần xác định rõ là có phải trâu thuần chủng để nhân giống hay không. Nếu thuần chủng thì dùng 01023100, nếu không thì dùng 01023900.'}, {'question': 'Nếu tôi nhập bò banteng từ Indonesia về, thì dùng mã HS nào?', 'answer': 'Dùng mã 01029090 vì nó không phải gia súc hoặc trâu và không thuộc loại thuần chủng để nhân giống.'}, {'question': 'Tôi nhập bò tót thuần chủng từ Tây Ban Nha về để tham gia lễ hội đấu bò, thì dùng mã nào?', 'answer': 'Dùng mã 01022100, vì đây là gia súc thuần chủng được nuôi với mục đích nhân giống.'}]\n"
     ]
    }
   ],
   "source": [
    "import asyncio\n",
    "data_path = \"/home/vinh/HS Code/Data/new_mota.csv\"\n",
    "df = pd.read_csv(data_path, dtype=str)\n",
    "grouped = group_by_hs_prefix(df)\n",
    "\n",
    "\n",
    "result = await fetch_hscode_qa_from_csv(grouped,\"gemini-2.0-flash-001\")\n",
    "print(result)\n",
    "\n",
    "\n"
   ]
  },
  {
   "cell_type": "code",
   "execution_count": 8,
   "id": "66aa1329",
   "metadata": {},
   "outputs": [],
   "source": [
    "# Lưu JSON\n",
    "with open(\"/home/vinh/HS Code/output_QA/hs_code_qa_demo.json\", \"w\", encoding=\"utf-8\") as f_json:\n",
    "    json.dump(result, f_json, ensure_ascii=False, indent=2)"
   ]
  }
 ],
 "metadata": {
  "kernelspec": {
   "display_name": "hscode",
   "language": "python",
   "name": "python3"
  },
  "language_info": {
   "codemirror_mode": {
    "name": "ipython",
    "version": 3
   },
   "file_extension": ".py",
   "mimetype": "text/x-python",
   "name": "python",
   "nbconvert_exporter": "python",
   "pygments_lexer": "ipython3",
   "version": "3.9.23"
  }
 },
 "nbformat": 4,
 "nbformat_minor": 5
}
